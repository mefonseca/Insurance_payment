{
  "nbformat": 4,
  "nbformat_minor": 0,
  "metadata": {
    "colab": {
      "name": "Non-payment of insurance premium.ipynb",
      "provenance": [],
      "collapsed_sections": [],
      "mount_file_id": "1CtrtI-7RekMgqHYNJyBYkvz0NT3Mzxg_",
      "authorship_tag": "ABX9TyPZF7JIJEfTGIaDoXXpRdn8",
      "include_colab_link": true
    },
    "kernelspec": {
      "name": "python3",
      "display_name": "Python 3"
    },
    "language_info": {
      "name": "python"
    }
  },
  "cells": [
    {
      "cell_type": "markdown",
      "metadata": {
        "id": "view-in-github",
        "colab_type": "text"
      },
      "source": [
        "<a href=\"https://colab.research.google.com/github/mefonseca/Insurance_payment/blob/main/Non_payment_of_insurance_premium.ipynb\" target=\"_parent\"><img src=\"https://colab.research.google.com/assets/colab-badge.svg\" alt=\"Open In Colab\"/></a>"
      ]
    },
    {
      "cell_type": "markdown",
      "metadata": {
        "id": "N7UEedTxhP0D"
      },
      "source": [
        "# Introduction\n",
        "\n",
        "In this notebook, I will analyze the \"Health Insurance Premium of Customers\" dataset [1] to predict whether a customer will pay the next premium or not. In addition to the prediction, my goal is to also understand the most important factors that explain non-payment. \n",
        "\n",
        "Here are the main steps (adapted from [2]) this Data Science project will encompass, including problem definition, exploratory analysis, modeling, evaluation, and deployment:\n",
        "\n",
        "1. Problem Definition\n",
        "    - 1.1 Definition of insurance technical terms\n",
        "    - 1.2 Goals\n",
        "    - 1.3 Dataset\n",
        "2. Feature Engineering\n",
        "    - 2.1 Exploratory Analysis\n",
        "    - Feature Extraction\n",
        "    - Missing Values Imputation\n",
        "    - Feature Encoding\n",
        "    - Feature Selection – Dimensionality Reduction\n",
        "3. Predictive Modelling\n",
        "    - Evaluation Metric Selection\n",
        "    - Cross-Validation Set-up\n",
        "    - Algorithmic Approach\n",
        "    - ML Algorithm Selection – Hyper-parameter Tuning\n",
        "4. Model Deployment\n",
        "\n",
        "**Author:** Maria Eugênia F. da Fonseca (fonsecamef@gmail.com)\n",
        "\n",
        "**Date:** April 2021"
      ]
    },
    {
      "cell_type": "markdown",
      "metadata": {
        "id": "SEJATQd-omRB"
      },
      "source": [
        "# 1. Problem Definition\n",
        "\n",
        "## 1.1. Definition of insurance technical terms\n",
        "Before defining the problem and diving into the data analysis, it is extremely important to clarify some terms within the insurance sphere (adapted from [3]).\n",
        "\n",
        "* **Insurance**: Something people buy to protect themselves from losing money in the event of an accident or unexpected mishap. It’s an agreement between you (the person being insured), and your insurance company, where you’ll pay a certain amount up front — your premium. In the event of an accident, injury, or other loss covered in your policy, you’ll pay a small portion of the financial cost, known as the “deductible,” and the insurance company promises to pay above that amount up to the limit shown on their policy.\n",
        "* **Policy**: A formal written contract of insurance. \n",
        "Policyholder: The person who applied for, pays for, and is issued the insurance policy.\n",
        "* **Premium**: The amount of money an insurance company charges to provide coverage.\n",
        "* **Claim**: An insurance claim is when you request your insurance company to pay you after a loss. If your insurance company validates the claim, you’ll be issued payment.\n",
        "\n",
        "## 1.2. Goals\n",
        "As you can imagine, if a large number of customers do not pay the premium on time, it might disrupt the cash flow and smooth operation for the company [1]. A model that predicts whether a customer would make the premium payment can be extremely helpful for the company because, for example, it can then accordingly plan its communication strategy to reach out to those customers who are less likely to pay and convince them to continue making timely payments [1]. Having said that, the goals of this project are:\n",
        "* Build a model to predict whether a customer will pay the next premium or not. \n",
        "* Understand the most important factors that explain non-payment.\n",
        "\n",
        "## 1.3. Dataset\n",
        "To conduct this analysis I will use the \"Health Insurance Premium of Customers\" dataset available on Kagle [1]. In this dataset, we have information about past premium payment history along with information such as demographics (age, monthly income, area type) and sourcing channel."
      ]
    },
    {
      "cell_type": "markdown",
      "metadata": {
        "id": "w8ox-r68E3KI"
      },
      "source": [
        "# 2. Feature Engineering\n",
        "\n",
        "## 2.1 Exploratory Analysis\n",
        "\n",
        "Firstly, let's import the dataset. On its page on Kagle, there are two files: a train and a test dataset."
      ]
    },
    {
      "cell_type": "code",
      "metadata": {
        "id": "KOKVh3tnGdhX"
      },
      "source": [
        "import pandas as pd\n",
        "import numpy as np"
      ],
      "execution_count": 1,
      "outputs": []
    },
    {
      "cell_type": "code",
      "metadata": {
        "id": "te_ufJgKHLui"
      },
      "source": [
        "train = pd.read_csv('/content/drive/MyDrive/Colab Notebooks/Portfolio de projetos/Non-payment of insurance premium/train_jRxnrHD.csv')\n",
        "test = pd.read_csv('/content/drive/MyDrive/Colab Notebooks/Portfolio de projetos/Non-payment of insurance premium/test_QaJU1Mh.csv')"
      ],
      "execution_count": 2,
      "outputs": []
    },
    {
      "cell_type": "code",
      "metadata": {
        "colab": {
          "base_uri": "https://localhost:8080/"
        },
        "id": "Qnul39c3ZHIn",
        "outputId": "47b2c466-20d0-4783-f453-3adfd9b47dff"
      },
      "source": [
        "train.dtypes"
      ],
      "execution_count": 3,
      "outputs": [
        {
          "output_type": "execute_result",
          "data": {
            "text/plain": [
              "id                                    int64\n",
              "perc_premium_paid_by_cash_credit    float64\n",
              "age_in_days                           int64\n",
              "Income                                int64\n",
              "Count_3-6_months_late               float64\n",
              "Count_6-12_months_late              float64\n",
              "Count_more_than_12_months_late      float64\n",
              "application_underwriting_score      float64\n",
              "no_of_premiums_paid                   int64\n",
              "sourcing_channel                     object\n",
              "residence_area_type                  object\n",
              "premium                               int64\n",
              "target                                int64\n",
              "dtype: object"
            ]
          },
          "metadata": {
            "tags": []
          },
          "execution_count": 3
        }
      ]
    },
    {
      "cell_type": "code",
      "metadata": {
        "id": "e6CkO7E-hO4G",
        "colab": {
          "base_uri": "https://localhost:8080/"
        },
        "outputId": "01bb1b1a-30f2-42cd-bb9b-6d5925f613ae"
      },
      "source": [
        "test.dtypes"
      ],
      "execution_count": 4,
      "outputs": [
        {
          "output_type": "execute_result",
          "data": {
            "text/plain": [
              "id                                    int64\n",
              "perc_premium_paid_by_cash_credit    float64\n",
              "age_in_days                           int64\n",
              "Income                                int64\n",
              "Count_3-6_months_late               float64\n",
              "Count_6-12_months_late              float64\n",
              "Count_more_than_12_months_late      float64\n",
              "application_underwriting_score      float64\n",
              "no_of_premiums_paid                   int64\n",
              "sourcing_channel                     object\n",
              "residence_area_type                  object\n",
              "dtype: object"
            ]
          },
          "metadata": {
            "tags": []
          },
          "execution_count": 4
        }
      ]
    },
    {
      "cell_type": "code",
      "metadata": {
        "colab": {
          "base_uri": "https://localhost:8080/"
        },
        "id": "8MZNga7PCXvg",
        "outputId": "539eb4b0-8bae-4b10-d87b-8e830c03c622"
      },
      "source": [
        "print('Train dataset shape:', train.shape)\n",
        "print('Test  dataset shape:', test.shape)"
      ],
      "execution_count": 5,
      "outputs": [
        {
          "output_type": "stream",
          "text": [
            "Train dataset shape: (79853, 13)\n",
            "Test  dataset shape: (34224, 11)\n"
          ],
          "name": "stdout"
        }
      ]
    },
    {
      "cell_type": "code",
      "metadata": {
        "colab": {
          "base_uri": "https://localhost:8080/"
        },
        "id": "pbXpzYkTC6D6",
        "outputId": "c4aafa3d-24d3-41ce-da2e-1d308e2a3a8e"
      },
      "source": [
        "percentage_train = round(train.shape[0] / (train.shape[0]+test.shape[0])*100, 3)\n",
        "print('Percentage of the train set:', percentage_train)"
      ],
      "execution_count": 6,
      "outputs": [
        {
          "output_type": "stream",
          "text": [
            "Percentage of the train set: 69.999\n"
          ],
          "name": "stdout"
        }
      ]
    },
    {
      "cell_type": "markdown",
      "metadata": {
        "id": "lfUqtEjwaGZN"
      },
      "source": [
        "As seen above, there are two variables in the training dataset that do not exist in the test dataset. Those variables are *premium*, which is the amount of money an insurance company charges to provide coverage, and *target*, which is our response variable and the indication of payment. \n",
        "\n",
        "From the looks of it, when the dataset owners made it available on Kagle, they split the data into approximately 70% for the training task and 30% for the test task, which is a very common procedure. However, they did not provide in the test dataset the response variable, not making it possible to use. Therefore, we will only use the original training dataset (79,853 observations) and will divide it into other training and testing datasets further on."
      ]
    },
    {
      "cell_type": "code",
      "metadata": {
        "colab": {
          "base_uri": "https://localhost:8080/"
        },
        "id": "fTPMS78COF4u",
        "outputId": "0e088c82-eb46-4e90-e15d-a3065c962ecd"
      },
      "source": [
        "train.target.value_counts()"
      ],
      "execution_count": 7,
      "outputs": [
        {
          "output_type": "execute_result",
          "data": {
            "text/plain": [
              "1    74854\n",
              "0     4999\n",
              "Name: target, dtype: int64"
            ]
          },
          "metadata": {
            "tags": []
          },
          "execution_count": 7
        }
      ]
    },
    {
      "cell_type": "code",
      "metadata": {
        "colab": {
          "base_uri": "https://localhost:8080/"
        },
        "id": "zCajFB0fOOaw",
        "outputId": "42cf7027-d6d1-4573-85bb-3aea1bbb41ae"
      },
      "source": [
        "round(train.target.value_counts()[0] / train.shape[0], 2)"
      ],
      "execution_count": 8,
      "outputs": [
        {
          "output_type": "execute_result",
          "data": {
            "text/plain": [
              "0.06"
            ]
          },
          "metadata": {
            "tags": []
          },
          "execution_count": 8
        }
      ]
    },
    {
      "cell_type": "markdown",
      "metadata": {
        "id": "1n6zWtSQPpf-"
      },
      "source": [
        "There are almost eighty thousand observations, but only almost five thousand are samples of non-payment. This unequal distribution of classes in this scenario is expected, as it is more natural and desired that people pay on time than the opposite. However, for the modeling task, this is a challenge as the algorithms could tend to favor the majority class. Further on, we will try to assess the problem and treat it if needed it.\n",
        "\n",
        "Next, we will study each of the 13 variables of the table."
      ]
    },
    {
      "cell_type": "code",
      "metadata": {
        "colab": {
          "base_uri": "https://localhost:8080/",
          "height": 325
        },
        "id": "GCtFwLHyUSgr",
        "outputId": "37e63f82-9aaf-4cac-86c9-1fe114fd472f"
      },
      "source": [
        "train.describe()"
      ],
      "execution_count": 9,
      "outputs": [
        {
          "output_type": "execute_result",
          "data": {
            "text/html": [
              "<div>\n",
              "<style scoped>\n",
              "    .dataframe tbody tr th:only-of-type {\n",
              "        vertical-align: middle;\n",
              "    }\n",
              "\n",
              "    .dataframe tbody tr th {\n",
              "        vertical-align: top;\n",
              "    }\n",
              "\n",
              "    .dataframe thead th {\n",
              "        text-align: right;\n",
              "    }\n",
              "</style>\n",
              "<table border=\"1\" class=\"dataframe\">\n",
              "  <thead>\n",
              "    <tr style=\"text-align: right;\">\n",
              "      <th></th>\n",
              "      <th>id</th>\n",
              "      <th>perc_premium_paid_by_cash_credit</th>\n",
              "      <th>age_in_days</th>\n",
              "      <th>Income</th>\n",
              "      <th>Count_3-6_months_late</th>\n",
              "      <th>Count_6-12_months_late</th>\n",
              "      <th>Count_more_than_12_months_late</th>\n",
              "      <th>application_underwriting_score</th>\n",
              "      <th>no_of_premiums_paid</th>\n",
              "      <th>premium</th>\n",
              "      <th>target</th>\n",
              "    </tr>\n",
              "  </thead>\n",
              "  <tbody>\n",
              "    <tr>\n",
              "      <th>count</th>\n",
              "      <td>79853.000000</td>\n",
              "      <td>79853.000000</td>\n",
              "      <td>79853.000000</td>\n",
              "      <td>7.985300e+04</td>\n",
              "      <td>79756.000000</td>\n",
              "      <td>79756.000000</td>\n",
              "      <td>79756.000000</td>\n",
              "      <td>76879.000000</td>\n",
              "      <td>79853.000000</td>\n",
              "      <td>79853.000000</td>\n",
              "      <td>79853.000000</td>\n",
              "    </tr>\n",
              "    <tr>\n",
              "      <th>mean</th>\n",
              "      <td>57167.166368</td>\n",
              "      <td>0.314288</td>\n",
              "      <td>18846.696906</td>\n",
              "      <td>2.088472e+05</td>\n",
              "      <td>0.248671</td>\n",
              "      <td>0.078188</td>\n",
              "      <td>0.060008</td>\n",
              "      <td>99.067291</td>\n",
              "      <td>10.863887</td>\n",
              "      <td>10924.507533</td>\n",
              "      <td>0.937397</td>\n",
              "    </tr>\n",
              "    <tr>\n",
              "      <th>std</th>\n",
              "      <td>32928.970160</td>\n",
              "      <td>0.334915</td>\n",
              "      <td>5208.719136</td>\n",
              "      <td>4.965826e+05</td>\n",
              "      <td>0.691468</td>\n",
              "      <td>0.436507</td>\n",
              "      <td>0.312023</td>\n",
              "      <td>0.739799</td>\n",
              "      <td>5.170687</td>\n",
              "      <td>9401.676542</td>\n",
              "      <td>0.242248</td>\n",
              "    </tr>\n",
              "    <tr>\n",
              "      <th>min</th>\n",
              "      <td>2.000000</td>\n",
              "      <td>0.000000</td>\n",
              "      <td>7670.000000</td>\n",
              "      <td>2.403000e+04</td>\n",
              "      <td>0.000000</td>\n",
              "      <td>0.000000</td>\n",
              "      <td>0.000000</td>\n",
              "      <td>91.900000</td>\n",
              "      <td>2.000000</td>\n",
              "      <td>1200.000000</td>\n",
              "      <td>0.000000</td>\n",
              "    </tr>\n",
              "    <tr>\n",
              "      <th>25%</th>\n",
              "      <td>28640.000000</td>\n",
              "      <td>0.034000</td>\n",
              "      <td>14974.000000</td>\n",
              "      <td>1.080100e+05</td>\n",
              "      <td>0.000000</td>\n",
              "      <td>0.000000</td>\n",
              "      <td>0.000000</td>\n",
              "      <td>98.810000</td>\n",
              "      <td>7.000000</td>\n",
              "      <td>5400.000000</td>\n",
              "      <td>1.000000</td>\n",
              "    </tr>\n",
              "    <tr>\n",
              "      <th>50%</th>\n",
              "      <td>57262.000000</td>\n",
              "      <td>0.167000</td>\n",
              "      <td>18625.000000</td>\n",
              "      <td>1.665600e+05</td>\n",
              "      <td>0.000000</td>\n",
              "      <td>0.000000</td>\n",
              "      <td>0.000000</td>\n",
              "      <td>99.210000</td>\n",
              "      <td>10.000000</td>\n",
              "      <td>7500.000000</td>\n",
              "      <td>1.000000</td>\n",
              "    </tr>\n",
              "    <tr>\n",
              "      <th>75%</th>\n",
              "      <td>85632.000000</td>\n",
              "      <td>0.538000</td>\n",
              "      <td>22636.000000</td>\n",
              "      <td>2.520900e+05</td>\n",
              "      <td>0.000000</td>\n",
              "      <td>0.000000</td>\n",
              "      <td>0.000000</td>\n",
              "      <td>99.540000</td>\n",
              "      <td>14.000000</td>\n",
              "      <td>13800.000000</td>\n",
              "      <td>1.000000</td>\n",
              "    </tr>\n",
              "    <tr>\n",
              "      <th>max</th>\n",
              "      <td>114076.000000</td>\n",
              "      <td>1.000000</td>\n",
              "      <td>37602.000000</td>\n",
              "      <td>9.026260e+07</td>\n",
              "      <td>13.000000</td>\n",
              "      <td>17.000000</td>\n",
              "      <td>11.000000</td>\n",
              "      <td>99.890000</td>\n",
              "      <td>60.000000</td>\n",
              "      <td>60000.000000</td>\n",
              "      <td>1.000000</td>\n",
              "    </tr>\n",
              "  </tbody>\n",
              "</table>\n",
              "</div>"
            ],
            "text/plain": [
              "                  id  ...        target\n",
              "count   79853.000000  ...  79853.000000\n",
              "mean    57167.166368  ...      0.937397\n",
              "std     32928.970160  ...      0.242248\n",
              "min         2.000000  ...      0.000000\n",
              "25%     28640.000000  ...      1.000000\n",
              "50%     57262.000000  ...      1.000000\n",
              "75%     85632.000000  ...      1.000000\n",
              "max    114076.000000  ...      1.000000\n",
              "\n",
              "[8 rows x 11 columns]"
            ]
          },
          "metadata": {
            "tags": []
          },
          "execution_count": 9
        }
      ]
    },
    {
      "cell_type": "code",
      "metadata": {
        "colab": {
          "base_uri": "https://localhost:8080/"
        },
        "id": "Lym6cnq8WIqp",
        "outputId": "ede98f48-431c-47eb-d7be-f47f43c3f022"
      },
      "source": [
        "train.isnull().sum()"
      ],
      "execution_count": 10,
      "outputs": [
        {
          "output_type": "execute_result",
          "data": {
            "text/plain": [
              "id                                     0\n",
              "perc_premium_paid_by_cash_credit       0\n",
              "age_in_days                            0\n",
              "Income                                 0\n",
              "Count_3-6_months_late                 97\n",
              "Count_6-12_months_late                97\n",
              "Count_more_than_12_months_late        97\n",
              "application_underwriting_score      2974\n",
              "no_of_premiums_paid                    0\n",
              "sourcing_channel                       0\n",
              "residence_area_type                    0\n",
              "premium                                0\n",
              "target                                 0\n",
              "dtype: int64"
            ]
          },
          "metadata": {
            "tags": []
          },
          "execution_count": 10
        }
      ]
    },
    {
      "cell_type": "code",
      "metadata": {
        "colab": {
          "base_uri": "https://localhost:8080/"
        },
        "id": "2xK5FhuwWb0D",
        "outputId": "04cfbbd8-1171-4bed-f377-41f0dbc95245"
      },
      "source": [
        "train.id.nunique()"
      ],
      "execution_count": 11,
      "outputs": [
        {
          "output_type": "execute_result",
          "data": {
            "text/plain": [
              "79853"
            ]
          },
          "metadata": {
            "tags": []
          },
          "execution_count": 11
        }
      ]
    },
    {
      "cell_type": "markdown",
      "metadata": {
        "id": "5goiXYkBWVdQ"
      },
      "source": [
        "The first variable (*id*) is merely an identification, with all unique values and none missing.\n",
        "\n",
        "### 2.1.1 Variable: Percentage of premium paid by cash credit\n",
        "\n",
        "The second, *perc_premium_paid_by_cash_credit*, represents the percentage of the premium that is paid by cash credit. From the distribution histogram and boxplot below, we can see how the variable is positively skewed, meaning that most values are clustered around the left tail, while few observations are distributed longer on the right tail.\n",
        "\n",
        "7.1% of the policyholders don't pay any premium with cash credit, while 6.3% pay everything with cash credit. The most frequent behavior though is a small percentage paid by cash credit: 46,1% have between more than 0% and less or equal to 20% of the premium on cash credit."
      ]
    },
    {
      "cell_type": "code",
      "metadata": {
        "colab": {
          "base_uri": "https://localhost:8080/",
          "height": 466
        },
        "id": "kmi7wrrjYPoh",
        "outputId": "e56da161-aa59-4685-fce0-cfa2721e2c96"
      },
      "source": [
        "# Code based from https://www.python-graph-gallery.com/24-histogram-with-a-boxplot-on-top-seaborn \n",
        "import seaborn as sns\n",
        "import matplotlib.pyplot as plt\n",
        "import matplotlib.ticker as mtick\n",
        "\n",
        "# set a grey background (use sns.set_theme() if seaborn version 0.11.0 or above) \n",
        "sns.set(style=\"darkgrid\")\n",
        " \n",
        "# creating a figure composed of two matplotlib.Axes objects (ax_box and ax_hist)\n",
        "f, (ax_box, ax_hist) = plt.subplots(2, sharex=True, gridspec_kw={\"height_ratios\": (.15, .85)}, figsize=(10,6))\n",
        "\n",
        "# assigning a graph to each ax\n",
        "sns.boxplot(train[\"perc_premium_paid_by_cash_credit\"], ax=ax_box, palette=[\"#457b9d\"])\n",
        "sns.histplot(train[\"perc_premium_paid_by_cash_credit\"], ax=ax_hist, bins=20, color=\"#457b9d\")\n",
        " \n",
        "# Remove x axis name for the boxplot\n",
        "ax_box.set(xlabel='', title='Distribution of premium paid by cash credit')\n",
        "ax_hist.set(xlabel='Percentage of premium paid by cash credit')\n",
        "ax_hist.xaxis.set_major_formatter(mtick.PercentFormatter(1))\n",
        "plt.show()"
      ],
      "execution_count": 18,
      "outputs": [
        {
          "output_type": "stream",
          "text": [
            "/usr/local/lib/python3.7/dist-packages/seaborn/_decorators.py:43: FutureWarning: Pass the following variable as a keyword arg: x. From version 0.12, the only valid positional argument will be `data`, and passing other arguments without an explicit keyword will result in an error or misinterpretation.\n",
            "  FutureWarning\n"
          ],
          "name": "stderr"
        },
        {
          "output_type": "display_data",
          "data": {
            "image/png": "[encoded data removed]",
            "text/plain": [
              "<Figure size 720x432 with 2 Axes>"
            ]
          },
          "metadata": {
            "tags": []
          }
        }
      ]
    },
    {
      "cell_type": "code",
      "metadata": {
        "colab": {
          "base_uri": "https://localhost:8080/"
        },
        "id": "uVsU1IHVxgI_",
        "outputId": "6918d59c-b7de-4974-edaa-ef0952741ab5"
      },
      "source": [
        "print('Percentage of premium paid by cash credit equals to zero:' , round(sum(train[\"perc_premium_paid_by_cash_credit\"]==0)/train.shape[0]*100,2), '%')\n",
        "print('Percentage of premium paid by cash credit more than 0% and equals to or less than 20%:' , round(sum((train[\"perc_premium_paid_by_cash_credit\"]>0)&(train[\"perc_premium_paid_by_cash_credit\"]<=0.2))/train.shape[0]*100,2), '%')\n",
        "print('Percentage of premium paid by cash credit equals to 100%:' , round(sum(train[\"perc_premium_paid_by_cash_credit\"]==1)/train.shape[0]*100,2), '%')"
      ],
      "execution_count": 13,
      "outputs": [
        {
          "output_type": "stream",
          "text": [
            "Percentage of premium paid by cash credit equals to zero: 7.17 %\n",
            "Percentage of premium paid by cash credit more than 0% and equals to or less than 20%: 46.14 %\n",
            "Percentage of premium paid by cash credit equals to 100%: 6.27 %\n"
          ],
          "name": "stdout"
        }
      ]
    },
    {
      "cell_type": "markdown",
      "metadata": {
        "id": "guAIqoo71sG0"
      },
      "source": [
        "When comparing the payment on cash credit and the event of payment itself, we can unquestionably see a difference between groups. From the boxplot below, it is noticeable how the percentage of cash credit the low in the group of good payers and is a lot higher on the defaulting policyholder group."
      ]
    },
    {
      "cell_type": "code",
      "metadata": {
        "colab": {
          "base_uri": "https://localhost:8080/",
          "height": 393
        },
        "id": "yqtbdywCkT6O",
        "outputId": "68ba5572-d252-4772-9143-0cd4f9979b7a"
      },
      "source": [
        "train['target_text'] = np.where(train['target'] == 0, 'Non-payment', np.where(train['target'] == 1, 'Payment', 'NA'))\n",
        "train['target_text'] = train['target_text'].astype('category')\n",
        "\n",
        "fig, ax = plt.subplots(figsize=(10,6))\n",
        "sns.boxplot(x=\"target_text\", y=\"perc_premium_paid_by_cash_credit\", data=train, palette=[\"#457b9d\", \"#1d3557\"], ax=ax)\n",
        "ax.set(xlabel='', ylabel='Percentage of premium paid by cash credit', title='Premium paid by cash credit by payment event')\n",
        "ax.yaxis.set_major_formatter(mtick.PercentFormatter(1))\n",
        "plt.show()"
      ],
      "execution_count": 19,
      "outputs": [
        {
          "output_type": "display_data",
          "data": {
            "image/png": "[encoded data removed]",
            "text/plain": [
              "<Figure size 720x432 with 1 Axes>"
            ]
          },
          "metadata": {
            "tags": []
          }
        }
      ]
    },
    {
      "cell_type": "markdown",
      "metadata": {
        "id": "6c225KrO3tV_"
      },
      "source": [
        "Although the difference between the groups is visible from the boxplot, we proceeded to do a statistical test and verify the difference. First, we test the data for normality. Since the data is not normal, we proceed to use the non-parametric Mann-Whitney test, which statistically verifies that the good payers' group has the lowest percentage of payment on cash credit.\n",
        "\n",
        "Since this variable behaved differently amongst the response variable levels, it probably will be important for our model."
      ]
    },
    {
      "cell_type": "code",
      "metadata": {
        "colab": {
          "base_uri": "https://localhost:8080/"
        },
        "id": "7AvBqjFzra00",
        "outputId": "72b2d4cb-f246-4b3c-aa1e-6293aa2a6aaf"
      },
      "source": [
        "from scipy import stats\n",
        "stats.normaltest(train['perc_premium_paid_by_cash_credit'])"
      ],
      "execution_count": 15,
      "outputs": [
        {
          "output_type": "execute_result",
          "data": {
            "text/plain": [
              "NormaltestResult(statistic=10724.382256426286, pvalue=0.0)"
            ]
          },
          "metadata": {
            "tags": []
          },
          "execution_count": 15
        }
      ]
    },
    {
      "cell_type": "code",
      "metadata": {
        "colab": {
          "base_uri": "https://localhost:8080/"
        },
        "id": "7WMEWJeUsdWN",
        "outputId": "52f6bd5f-77c2-46c4-e14f-f70aea13db69"
      },
      "source": [
        "from scipy.stats import mannwhitneyu\n",
        "\n",
        "# H0: Percentage of premium paid by cash credit in both groups (non-payment and payment) are the same\n",
        "# H0: Percentage of premium paid by cash credit in the non-payment group greater tha in the payment group\n",
        "\n",
        "mannwhitneyu(train['perc_premium_paid_by_cash_credit'], train['target'], alternative='less')"
      ],
      "execution_count": 16,
      "outputs": [
        {
          "output_type": "execute_result",
          "data": {
            "text/plain": [
              "MannwhitneyuResult(statistic=572165216.5, pvalue=0.0)"
            ]
          },
          "metadata": {
            "tags": []
          },
          "execution_count": 16
        }
      ]
    },
    {
      "cell_type": "markdown",
      "metadata": {
        "id": "mtomi8om6e-s"
      },
      "source": [
        "### 2.1.3 Variable: Age in days"
      ]
    },
    {
      "cell_type": "markdown",
      "metadata": {
        "id": "2Dlz-oUghZR7"
      },
      "source": [
        "# References\n",
        "\n",
        "[1] https://www.kaggle.com/itssuru/health-insurance-premium-of-customers\n",
        "\n",
        "[2] https://www.f1-predictor.com/building-an-f1-prediction-engine-feature-engineering-part-i/](https://www.f1-predictor.com/building-an-f1-prediction-engine-feature-engineering-part-i/\n",
        "\n",
        "[3] https://www.amfam.com/resources/articles/understanding-insurance/basic-insurance-terms-and-definitions\n",
        "\n",
        "[4] "
      ]
    },
    {
      "cell_type": "code",
      "metadata": {
        "id": "xR_OTIvQ648E"
      },
      "source": [
        ""
      ],
      "execution_count": 16,
      "outputs": []
    }
  ]
}