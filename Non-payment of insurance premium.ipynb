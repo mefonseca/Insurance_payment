{
  "nbformat": 4,
  "nbformat_minor": 0,
  "metadata": {
    "colab": {
      "name": "Non-payment of insurance premium.ipynb",
      "provenance": [],
      "collapsed_sections": [],
      "toc_visible": true,
      "authorship_tag": "ABX9TyMCMiRUYu3d2oy8z9kqTGnk",
      "include_colab_link": true
    },
    "kernelspec": {
      "name": "python3",
      "display_name": "Python 3"
    },
    "language_info": {
      "name": "python"
    }
  },
  "cells": [
    {
      "cell_type": "markdown",
      "metadata": {
        "id": "view-in-github",
        "colab_type": "text"
      },
      "source": [
        "<a href=\"https://colab.research.google.com/github/mefonseca/Insurance_payment/blob/main/Non-payment%20of%20insurance%20premium.ipynb\" target=\"_parent\"><img src=\"https://colab.research.google.com/assets/colab-badge.svg\" alt=\"Open In Colab\"/></a>"
      ]
    },
    {
      "cell_type": "markdown",
      "metadata": {
        "id": "N7UEedTxhP0D"
      },
      "source": [
        "# Introduction\n",
        "\n",
        "In this notebook, I will analyze the \"Health Insurance Premium of Customers\" dataset [1] to predict whether a customer will pay the next premium or not. In addition to the prediction, my goal is to also understand the most important factors that explain non-payment. \n",
        "\n",
        "Here are the main steps (adapted from [2]) this Data Science project will encompass, including problem definition, exploratory analysis, modeling, evaluation, and deployment:\n",
        "\n",
        "1. Problem Definition\n",
        "    - Definition of insurance technical terms\n",
        "    - Goals\n",
        "    - Dataset\n",
        "2. Feature Engineering\n",
        "    - Data Exploration\n",
        "    - Feature Extraction\n",
        "    - Missing Values Imputation\n",
        "    - Feature Encoding\n",
        "    - Feature Selection – Dimensionality Reduction\n",
        "3. Predictive Modelling\n",
        "    - Evaluation Metric Selection\n",
        "    - Cross-Validation Set-up\n",
        "    - Algorithmic Approach\n",
        "    - ML Algorithm Selection – Hyper-parameter Tuning\n",
        "4. Model Deployment\n",
        "\n",
        "**Author:** Maria Eugênia F. da Fonseca (fonsecamef@gmail.com)\n",
        "\n",
        "**Date:** April 2021"
      ]
    },
    {
      "cell_type": "markdown",
      "metadata": {
        "id": "SEJATQd-omRB"
      },
      "source": [
        "# 1. Problem Definition\n",
        "\n",
        "## 1.1. Definition of insurance technical terms\n",
        "Before defining the problem and diving into the data analysis, it is extremely important to clarify some terms within the insurance sphere (adapted from [3]).\n",
        "\n",
        "* **Insurance**: Something people buy to protect themselves from losing money in the event of an accident or unexpected mishap. It’s an agreement between you (the person being insured), and your insurance company, where you’ll pay a certain amount up front — your premium. In the event of an accident, injury, or other loss covered in your policy, you’ll pay a small portion of the financial cost, known as the “deductible,” and the insurance company promises to pay above that amount up to the limit shown on their policy.\n",
        "* **Policy**: A formal written contract of insurance. \n",
        "Policyholder: The person who applied for, pays for, and is issued the insurance policy.\n",
        "* **Premium**: The amount of money an insurance company charges to provide coverage.\n",
        "* **Claim**: An insurance claim is when you request your insurance company to pay you after a loss. If your insurance company validates the claim, you’ll be issued payment.\n",
        "\n",
        "## 1.2. Goals\n",
        "As you can imagine, if a large number of customers do not pay the premium on time, it might disrupt the cash flow and smooth operation for the company [1]. A model that predicts whether a customer would make the premium payment can be extremely helpful for the company because, for example, it can then accordingly plan its communication strategy to reach out to those customers who are less likely to pay and convince them to continue making timely payments [1]. Having said that, the goals of this project are:\n",
        "* Build a model to predict whether a customer will pay the next premium or not. \n",
        "* Understand the most important factors that explain non-payment.\n",
        "\n",
        "## 1.3. Dataset\n",
        "To conduct this analysis I will use the \"Health Insurance Premium of Customers\" dataset available on Kagle [1]. In this dataset, we have information about past premium payment history along with information such as demographics (age, monthly income, area type) and sourcing channel."
      ]
    },
    {
      "cell_type": "code",
      "metadata": {
        "id": "e6CkO7E-hO4G"
      },
      "source": [
        ""
      ],
      "execution_count": null,
      "outputs": []
    },
    {
      "cell_type": "markdown",
      "metadata": {
        "id": "2Dlz-oUghZR7"
      },
      "source": [
        "[1] https://www.kaggle.com/itssuru/health-insurance-premium-of-customers\n",
        "\n",
        "[2] https://www.f1-predictor.com/building-an-f1-prediction-engine-feature-engineering-part-i/](https://www.f1-predictor.com/building-an-f1-prediction-engine-feature-engineering-part-i/\n",
        "\n",
        "[3] https://www.amfam.com/resources/articles/understanding-insurance/basic-insurance-terms-and-definitions\n",
        "\n",
        "[4] "
      ]
    }
  ]
}